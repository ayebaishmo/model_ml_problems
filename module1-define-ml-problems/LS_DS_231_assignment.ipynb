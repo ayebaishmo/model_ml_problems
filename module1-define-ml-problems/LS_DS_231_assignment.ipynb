{
  "cells": [
    {
      "cell_type": "markdown",
      "metadata": {
        "id": "nCc3XZEyG3XV"
      },
      "source": [
        "BloomTech Data Science\n",
        "\n",
        "*Unit 2, Sprint 3, Module 1*\n",
        "\n",
        "---\n",
        "\n",
        "\n",
        "# Define ML problems\n",
        "\n",
        "**We recommend that you use your portfolio project dataset for all assignments this sprint.**\n",
        "\n",
        "**But if you aren't ready yet, or you want more practice, then use the New York City property sales dataset for today's assignment.** Follow the instructions below, to just keep a subset for the Tribeca neighborhood, and remove outliers or dirty data. [Here's a video walkthrough](https://youtu.be/pPWFw8UtBVg?t=584) you can refer to if you get stuck or want hints!\n",
        "\n",
        "- Data Source: [NYC OpenData: NYC Citywide Rolling Calendar Sales](https://data.cityofnewyork.us/dataset/NYC-Citywide-Rolling-Calendar-Sales/usep-8jbt)\n",
        "- Glossary: [NYC Department of Finance: Rolling Sales Data](https://www1.nyc.gov/site/finance/taxes/property-rolling-sales-data.page)\n",
        "\n",
        "## Assignment\n",
        "\n",
        "Complete these tasks for your assignment/project, and document your decisions.\n",
        "\n",
        "- [ NObeyesdad ] Choose your target. Which column in your tabular dataset will you predict?\n",
        "- [ classification ] Is your problem regression or classification?\n",
        "- [ ] How is your target distributed?\n",
        "    - Classification: How many classes? Are the classes imbalanced?\n",
        "    - Regression: Is the target right-skewed? If so, you may want to log transform the target.\n",
        "- [ ] Choose your evaluation metric(s).\n",
        "    - Classification: Is your majority class frequency >= 50% and < 70% ? If so, you can just use accuracy if you want. Outside that range, accuracy could be misleading. What evaluation metric will you choose, in addition to or instead of accuracy?\n",
        "    - Regression: Will you use mean absolute error, root mean squared error, R^2, or other regression metrics?\n",
        "- [ ] Choose which observations you will use to train, validate, and test your model.\n",
        "    - Are some observations outliers? Will you exclude them?\n",
        "    - Will you do a random split or a time-based split?\n",
        "- [ ] Begin to clean and explore your data.\n",
        "- [ ] Begin to choose which features, if any, to exclude. Would some features \"leak\" future information?\n",
        "\n",
        "If you haven't found a dataset yet, do that today. Review requirements for your portfolio project on Canvas, and choose your dataset.\n",
        "\n",
        "Some students worry, ***what if my model isn't “good”?*** Then, [produce a detailed tribute to your wrongness. That is science!](https://twitter.com/nathanwpyle/status/1176860147223867393)"
      ]
    },
    {
      "cell_type": "markdown",
      "metadata": {
        "id": "vbjyYJxHOL0P"
      },
      "source": []
    },
    {
      "cell_type": "markdown",
      "metadata": {},
      "source": [
        "# my potfolio project of \n",
        "My Goal: The goal of this competition is to use various factors to predict obesity risk in individuals, which is related to cardiovascular disease. Good luck!"
      ]
    },
    {
      "cell_type": "code",
      "execution_count": 7,
      "metadata": {},
      "outputs": [
        {
          "data": {
            "text/html": [
              "<div>\n",
              "<style scoped>\n",
              "    .dataframe tbody tr th:only-of-type {\n",
              "        vertical-align: middle;\n",
              "    }\n",
              "\n",
              "    .dataframe tbody tr th {\n",
              "        vertical-align: top;\n",
              "    }\n",
              "\n",
              "    .dataframe thead th {\n",
              "        text-align: right;\n",
              "    }\n",
              "</style>\n",
              "<table border=\"1\" class=\"dataframe\">\n",
              "  <thead>\n",
              "    <tr style=\"text-align: right;\">\n",
              "      <th></th>\n",
              "      <th>id</th>\n",
              "      <th>Gender</th>\n",
              "      <th>Age</th>\n",
              "      <th>Height</th>\n",
              "      <th>Weight</th>\n",
              "      <th>family_history_with_overweight</th>\n",
              "      <th>FAVC</th>\n",
              "      <th>FCVC</th>\n",
              "      <th>NCP</th>\n",
              "      <th>CAEC</th>\n",
              "      <th>SMOKE</th>\n",
              "      <th>CH2O</th>\n",
              "      <th>SCC</th>\n",
              "      <th>FAF</th>\n",
              "      <th>TUE</th>\n",
              "      <th>CALC</th>\n",
              "      <th>MTRANS</th>\n",
              "      <th>NObeyesdad</th>\n",
              "    </tr>\n",
              "  </thead>\n",
              "  <tbody>\n",
              "    <tr>\n",
              "      <th>0</th>\n",
              "      <td>0</td>\n",
              "      <td>Male</td>\n",
              "      <td>24.443011</td>\n",
              "      <td>1.699998</td>\n",
              "      <td>81.669950</td>\n",
              "      <td>yes</td>\n",
              "      <td>yes</td>\n",
              "      <td>2.000000</td>\n",
              "      <td>2.983297</td>\n",
              "      <td>Sometimes</td>\n",
              "      <td>no</td>\n",
              "      <td>2.763573</td>\n",
              "      <td>no</td>\n",
              "      <td>0.000000</td>\n",
              "      <td>0.976473</td>\n",
              "      <td>Sometimes</td>\n",
              "      <td>Public_Transportation</td>\n",
              "      <td>Overweight_Level_II</td>\n",
              "    </tr>\n",
              "    <tr>\n",
              "      <th>1</th>\n",
              "      <td>1</td>\n",
              "      <td>Female</td>\n",
              "      <td>18.000000</td>\n",
              "      <td>1.560000</td>\n",
              "      <td>57.000000</td>\n",
              "      <td>yes</td>\n",
              "      <td>yes</td>\n",
              "      <td>2.000000</td>\n",
              "      <td>3.000000</td>\n",
              "      <td>Frequently</td>\n",
              "      <td>no</td>\n",
              "      <td>2.000000</td>\n",
              "      <td>no</td>\n",
              "      <td>1.000000</td>\n",
              "      <td>1.000000</td>\n",
              "      <td>no</td>\n",
              "      <td>Automobile</td>\n",
              "      <td>Normal_Weight</td>\n",
              "    </tr>\n",
              "    <tr>\n",
              "      <th>2</th>\n",
              "      <td>2</td>\n",
              "      <td>Female</td>\n",
              "      <td>18.000000</td>\n",
              "      <td>1.711460</td>\n",
              "      <td>50.165754</td>\n",
              "      <td>yes</td>\n",
              "      <td>yes</td>\n",
              "      <td>1.880534</td>\n",
              "      <td>1.411685</td>\n",
              "      <td>Sometimes</td>\n",
              "      <td>no</td>\n",
              "      <td>1.910378</td>\n",
              "      <td>no</td>\n",
              "      <td>0.866045</td>\n",
              "      <td>1.673584</td>\n",
              "      <td>no</td>\n",
              "      <td>Public_Transportation</td>\n",
              "      <td>Insufficient_Weight</td>\n",
              "    </tr>\n",
              "    <tr>\n",
              "      <th>3</th>\n",
              "      <td>3</td>\n",
              "      <td>Female</td>\n",
              "      <td>20.952737</td>\n",
              "      <td>1.710730</td>\n",
              "      <td>131.274851</td>\n",
              "      <td>yes</td>\n",
              "      <td>yes</td>\n",
              "      <td>3.000000</td>\n",
              "      <td>3.000000</td>\n",
              "      <td>Sometimes</td>\n",
              "      <td>no</td>\n",
              "      <td>1.674061</td>\n",
              "      <td>no</td>\n",
              "      <td>1.467863</td>\n",
              "      <td>0.780199</td>\n",
              "      <td>Sometimes</td>\n",
              "      <td>Public_Transportation</td>\n",
              "      <td>Obesity_Type_III</td>\n",
              "    </tr>\n",
              "    <tr>\n",
              "      <th>4</th>\n",
              "      <td>4</td>\n",
              "      <td>Male</td>\n",
              "      <td>31.641081</td>\n",
              "      <td>1.914186</td>\n",
              "      <td>93.798055</td>\n",
              "      <td>yes</td>\n",
              "      <td>yes</td>\n",
              "      <td>2.679664</td>\n",
              "      <td>1.971472</td>\n",
              "      <td>Sometimes</td>\n",
              "      <td>no</td>\n",
              "      <td>1.979848</td>\n",
              "      <td>no</td>\n",
              "      <td>1.967973</td>\n",
              "      <td>0.931721</td>\n",
              "      <td>Sometimes</td>\n",
              "      <td>Public_Transportation</td>\n",
              "      <td>Overweight_Level_II</td>\n",
              "    </tr>\n",
              "  </tbody>\n",
              "</table>\n",
              "</div>"
            ],
            "text/plain": [
              "   id  Gender        Age    Height      Weight family_history_with_overweight  \\\n",
              "0   0    Male  24.443011  1.699998   81.669950                            yes   \n",
              "1   1  Female  18.000000  1.560000   57.000000                            yes   \n",
              "2   2  Female  18.000000  1.711460   50.165754                            yes   \n",
              "3   3  Female  20.952737  1.710730  131.274851                            yes   \n",
              "4   4    Male  31.641081  1.914186   93.798055                            yes   \n",
              "\n",
              "  FAVC      FCVC       NCP        CAEC SMOKE      CH2O SCC       FAF  \\\n",
              "0  yes  2.000000  2.983297   Sometimes    no  2.763573  no  0.000000   \n",
              "1  yes  2.000000  3.000000  Frequently    no  2.000000  no  1.000000   \n",
              "2  yes  1.880534  1.411685   Sometimes    no  1.910378  no  0.866045   \n",
              "3  yes  3.000000  3.000000   Sometimes    no  1.674061  no  1.467863   \n",
              "4  yes  2.679664  1.971472   Sometimes    no  1.979848  no  1.967973   \n",
              "\n",
              "        TUE       CALC                 MTRANS           NObeyesdad  \n",
              "0  0.976473  Sometimes  Public_Transportation  Overweight_Level_II  \n",
              "1  1.000000         no             Automobile        Normal_Weight  \n",
              "2  1.673584         no  Public_Transportation  Insufficient_Weight  \n",
              "3  0.780199  Sometimes  Public_Transportation     Obesity_Type_III  \n",
              "4  0.931721  Sometimes  Public_Transportation  Overweight_Level_II  "
            ]
          },
          "execution_count": 7,
          "metadata": {},
          "output_type": "execute_result"
        }
      ],
      "source": [
        "# import pandas as pd\n",
        "# import numpy as np\n",
        "\n",
        "# train_set = pd.read_csv('C:/Users/ISHMO_CT/Downloads/model_ml_problems/datasets/train.csv')\n",
        "# test_set = pd.read_csv('C:/Users/ISHMO_CT/Downloads/model_ml_problems/datasets/test.csv')\n",
        "\n",
        "# train_set.head()\n",
        "\n",
        "# # Am chhosing NObeyesdad as a column to predict"
      ]
    },
    {
      "cell_type": "code",
      "execution_count": 24,
      "metadata": {},
      "outputs": [
        {
          "name": "stdout",
          "output_type": "stream",
          "text": [
            "<class 'pandas.core.frame.DataFrame'>\n",
            "RangeIndex: 20758 entries, 0 to 20757\n",
            "Data columns (total 18 columns):\n",
            " #   Column                          Non-Null Count  Dtype  \n",
            "---  ------                          --------------  -----  \n",
            " 0   id                              20758 non-null  int64  \n",
            " 1   Gender                          20758 non-null  object \n",
            " 2   Age                             20758 non-null  float64\n",
            " 3   Height                          20758 non-null  float64\n",
            " 4   Weight                          20758 non-null  float64\n",
            " 5   family_history_with_overweight  20758 non-null  object \n",
            " 6   FAVC                            20758 non-null  object \n",
            " 7   FCVC                            20758 non-null  float64\n",
            " 8   NCP                             20758 non-null  float64\n",
            " 9   CAEC                            20758 non-null  object \n",
            " 10  SMOKE                           20758 non-null  object \n",
            " 11  CH2O                            20758 non-null  float64\n",
            " 12  SCC                             20758 non-null  object \n",
            " 13  FAF                             20758 non-null  float64\n",
            " 14  TUE                             20758 non-null  float64\n",
            " 15  CALC                            20758 non-null  object \n",
            " 16  MTRANS                          20758 non-null  object \n",
            " 17  NObeyesdad                      20758 non-null  object \n",
            "dtypes: float64(8), int64(1), object(9)\n",
            "memory usage: 2.9+ MB\n"
          ]
        }
      ],
      "source": [
        "# train_set.info()"
      ]
    },
    {
      "cell_type": "code",
      "execution_count": 9,
      "metadata": {},
      "outputs": [
        {
          "data": {
            "text/plain": [
              "array(['Overweight_Level_II', 'Normal_Weight', 'Insufficient_Weight',\n",
              "       'Obesity_Type_III', 'Obesity_Type_II', 'Overweight_Level_I',\n",
              "       'Obesity_Type_I'], dtype=object)"
            ]
          },
          "execution_count": 9,
          "metadata": {},
          "output_type": "execute_result"
        }
      ],
      "source": [
        "# train_set['NObeyesdad'].unique()\n",
        "\n",
        "# # My problem is classification"
      ]
    },
    {
      "cell_type": "code",
      "execution_count": 20,
      "metadata": {},
      "outputs": [
        {
          "name": "stdout",
          "output_type": "stream",
          "text": [
            "NObeyesdad\n",
            "Obesity_Type_III       19.491280\n",
            "Obesity_Type_II        15.646979\n",
            "Normal_Weight          14.847288\n",
            "Obesity_Type_I         14.018692\n",
            "Insufficient_Weight    12.154350\n",
            "Overweight_Level_II    12.149533\n",
            "Overweight_Level_I     11.691878\n",
            "Name: count, dtype: float64\n"
          ]
        }
      ],
      "source": [
        "# unique_value_percent = (train_set['NObeyesdad'].value_counts()/len(train_set)) * 100\n",
        "# print(unique_value_percent)\n",
        "\n",
        "# # My target is well distributed"
      ]
    },
    {
      "cell_type": "code",
      "execution_count": 21,
      "metadata": {},
      "outputs": [],
      "source": [
        "# We have 7 classes in the target column\n",
        "#Classes are not imbalanced\n",
        "#Since the highest majority is 19% I will use accurancy \n",
        "# I already have data test data set, however for the train and val set I will used % 80% for training and 20 for testing\n",
        "# So  am using random split"
      ]
    },
    {
      "cell_type": "code",
      "execution_count": 25,
      "metadata": {},
      "outputs": [],
      "source": [
        "# # Check for outliers\n",
        "# import matplotlib.pyplot as plt \n",
        "# plt.scatter(train_set['Height'], train_set['Weight'])\n",
        "# plt.show()"
      ]
    },
    {
      "cell_type": "markdown",
      "metadata": {},
      "source": [
        "### Assign Urls"
      ]
    },
    {
      "cell_type": "code",
      "execution_count": 26,
      "metadata": {},
      "outputs": [],
      "source": [
        "train_set = 'C:/Users/ISHMO_CT/Downloads/model_ml_problems/datasets/train.csv'\n",
        "test_set = 'C:/Users/ISHMO_CT/Downloads/model_ml_problems/datasets/train.csv'"
      ]
    },
    {
      "cell_type": "markdown",
      "metadata": {},
      "source": [
        "### Import neccessary pckages "
      ]
    },
    {
      "cell_type": "code",
      "execution_count": 27,
      "metadata": {},
      "outputs": [],
      "source": [
        "import numpy as np\n",
        "import pandas as pd"
      ]
    },
    {
      "cell_type": "markdown",
      "metadata": {},
      "source": [
        "### Wrangle data"
      ]
    },
    {
      "cell_type": "code",
      "execution_count": 35,
      "metadata": {},
      "outputs": [],
      "source": [
        "def wrangle(filepath):\n",
        "    df = pd.read_csv(filepath)\n",
        "    return df"
      ]
    },
    {
      "cell_type": "markdown",
      "metadata": {},
      "source": [
        "### pass our dataset in the wrangle function "
      ]
    },
    {
      "cell_type": "code",
      "execution_count": 36,
      "metadata": {},
      "outputs": [
        {
          "data": {
            "text/html": [
              "<div>\n",
              "<style scoped>\n",
              "    .dataframe tbody tr th:only-of-type {\n",
              "        vertical-align: middle;\n",
              "    }\n",
              "\n",
              "    .dataframe tbody tr th {\n",
              "        vertical-align: top;\n",
              "    }\n",
              "\n",
              "    .dataframe thead th {\n",
              "        text-align: right;\n",
              "    }\n",
              "</style>\n",
              "<table border=\"1\" class=\"dataframe\">\n",
              "  <thead>\n",
              "    <tr style=\"text-align: right;\">\n",
              "      <th></th>\n",
              "      <th>id</th>\n",
              "      <th>Gender</th>\n",
              "      <th>Age</th>\n",
              "      <th>Height</th>\n",
              "      <th>Weight</th>\n",
              "      <th>family_history_with_overweight</th>\n",
              "      <th>FAVC</th>\n",
              "      <th>FCVC</th>\n",
              "      <th>NCP</th>\n",
              "      <th>CAEC</th>\n",
              "      <th>SMOKE</th>\n",
              "      <th>CH2O</th>\n",
              "      <th>SCC</th>\n",
              "      <th>FAF</th>\n",
              "      <th>TUE</th>\n",
              "      <th>CALC</th>\n",
              "      <th>MTRANS</th>\n",
              "      <th>NObeyesdad</th>\n",
              "    </tr>\n",
              "  </thead>\n",
              "  <tbody>\n",
              "    <tr>\n",
              "      <th>0</th>\n",
              "      <td>0</td>\n",
              "      <td>Male</td>\n",
              "      <td>24.443011</td>\n",
              "      <td>1.699998</td>\n",
              "      <td>81.669950</td>\n",
              "      <td>yes</td>\n",
              "      <td>yes</td>\n",
              "      <td>2.000000</td>\n",
              "      <td>2.983297</td>\n",
              "      <td>Sometimes</td>\n",
              "      <td>no</td>\n",
              "      <td>2.763573</td>\n",
              "      <td>no</td>\n",
              "      <td>0.000000</td>\n",
              "      <td>0.976473</td>\n",
              "      <td>Sometimes</td>\n",
              "      <td>Public_Transportation</td>\n",
              "      <td>Overweight_Level_II</td>\n",
              "    </tr>\n",
              "    <tr>\n",
              "      <th>1</th>\n",
              "      <td>1</td>\n",
              "      <td>Female</td>\n",
              "      <td>18.000000</td>\n",
              "      <td>1.560000</td>\n",
              "      <td>57.000000</td>\n",
              "      <td>yes</td>\n",
              "      <td>yes</td>\n",
              "      <td>2.000000</td>\n",
              "      <td>3.000000</td>\n",
              "      <td>Frequently</td>\n",
              "      <td>no</td>\n",
              "      <td>2.000000</td>\n",
              "      <td>no</td>\n",
              "      <td>1.000000</td>\n",
              "      <td>1.000000</td>\n",
              "      <td>no</td>\n",
              "      <td>Automobile</td>\n",
              "      <td>Normal_Weight</td>\n",
              "    </tr>\n",
              "    <tr>\n",
              "      <th>2</th>\n",
              "      <td>2</td>\n",
              "      <td>Female</td>\n",
              "      <td>18.000000</td>\n",
              "      <td>1.711460</td>\n",
              "      <td>50.165754</td>\n",
              "      <td>yes</td>\n",
              "      <td>yes</td>\n",
              "      <td>1.880534</td>\n",
              "      <td>1.411685</td>\n",
              "      <td>Sometimes</td>\n",
              "      <td>no</td>\n",
              "      <td>1.910378</td>\n",
              "      <td>no</td>\n",
              "      <td>0.866045</td>\n",
              "      <td>1.673584</td>\n",
              "      <td>no</td>\n",
              "      <td>Public_Transportation</td>\n",
              "      <td>Insufficient_Weight</td>\n",
              "    </tr>\n",
              "    <tr>\n",
              "      <th>3</th>\n",
              "      <td>3</td>\n",
              "      <td>Female</td>\n",
              "      <td>20.952737</td>\n",
              "      <td>1.710730</td>\n",
              "      <td>131.274851</td>\n",
              "      <td>yes</td>\n",
              "      <td>yes</td>\n",
              "      <td>3.000000</td>\n",
              "      <td>3.000000</td>\n",
              "      <td>Sometimes</td>\n",
              "      <td>no</td>\n",
              "      <td>1.674061</td>\n",
              "      <td>no</td>\n",
              "      <td>1.467863</td>\n",
              "      <td>0.780199</td>\n",
              "      <td>Sometimes</td>\n",
              "      <td>Public_Transportation</td>\n",
              "      <td>Obesity_Type_III</td>\n",
              "    </tr>\n",
              "    <tr>\n",
              "      <th>4</th>\n",
              "      <td>4</td>\n",
              "      <td>Male</td>\n",
              "      <td>31.641081</td>\n",
              "      <td>1.914186</td>\n",
              "      <td>93.798055</td>\n",
              "      <td>yes</td>\n",
              "      <td>yes</td>\n",
              "      <td>2.679664</td>\n",
              "      <td>1.971472</td>\n",
              "      <td>Sometimes</td>\n",
              "      <td>no</td>\n",
              "      <td>1.979848</td>\n",
              "      <td>no</td>\n",
              "      <td>1.967973</td>\n",
              "      <td>0.931721</td>\n",
              "      <td>Sometimes</td>\n",
              "      <td>Public_Transportation</td>\n",
              "      <td>Overweight_Level_II</td>\n",
              "    </tr>\n",
              "  </tbody>\n",
              "</table>\n",
              "</div>"
            ],
            "text/plain": [
              "   id  Gender        Age    Height      Weight family_history_with_overweight  \\\n",
              "0   0    Male  24.443011  1.699998   81.669950                            yes   \n",
              "1   1  Female  18.000000  1.560000   57.000000                            yes   \n",
              "2   2  Female  18.000000  1.711460   50.165754                            yes   \n",
              "3   3  Female  20.952737  1.710730  131.274851                            yes   \n",
              "4   4    Male  31.641081  1.914186   93.798055                            yes   \n",
              "\n",
              "  FAVC      FCVC       NCP        CAEC SMOKE      CH2O SCC       FAF  \\\n",
              "0  yes  2.000000  2.983297   Sometimes    no  2.763573  no  0.000000   \n",
              "1  yes  2.000000  3.000000  Frequently    no  2.000000  no  1.000000   \n",
              "2  yes  1.880534  1.411685   Sometimes    no  1.910378  no  0.866045   \n",
              "3  yes  3.000000  3.000000   Sometimes    no  1.674061  no  1.467863   \n",
              "4  yes  2.679664  1.971472   Sometimes    no  1.979848  no  1.967973   \n",
              "\n",
              "        TUE       CALC                 MTRANS           NObeyesdad  \n",
              "0  0.976473  Sometimes  Public_Transportation  Overweight_Level_II  \n",
              "1  1.000000         no             Automobile        Normal_Weight  \n",
              "2  1.673584         no  Public_Transportation  Insufficient_Weight  \n",
              "3  0.780199  Sometimes  Public_Transportation     Obesity_Type_III  \n",
              "4  0.931721  Sometimes  Public_Transportation  Overweight_Level_II  "
            ]
          },
          "execution_count": 36,
          "metadata": {},
          "output_type": "execute_result"
        }
      ],
      "source": [
        "df = wrangle(train_set)\n",
        "df.head()"
      ]
    },
    {
      "cell_type": "markdown",
      "metadata": {},
      "source": [
        "### Split the datset"
      ]
    },
    {
      "cell_type": "code",
      "execution_count": 40,
      "metadata": {},
      "outputs": [
        {
          "name": "stdout",
          "output_type": "stream",
          "text": [
            "(20758,)\n",
            "(20758, 17)\n"
          ]
        }
      ],
      "source": [
        "target = 'NObeyesdad'\n",
        "y = df[target]\n",
        "X = df.drop(columns=target)\n",
        "print(y.shape)\n",
        "print(X.shape)"
      ]
    },
    {
      "cell_type": "code",
      "execution_count": 45,
      "metadata": {},
      "outputs": [
        {
          "name": "stdout",
          "output_type": "stream",
          "text": [
            "(16606, 17)\n",
            "(4152, 17)\n",
            "(16606,)\n",
            "(4152,)\n"
          ]
        }
      ],
      "source": [
        "from sklearn.model_selection import train_test_split\n",
        "X_train, X_val, y_train, y_val = train_test_split(X,y,test_size=0.2, random_state=42)\n",
        "print(X_train.shape)\n",
        "print(X_val.shape)\n",
        "print(y_train.shape)\n",
        "print(y_val.shape)"
      ]
    }
  ],
  "metadata": {
    "colab": {
      "provenance": []
    },
    "kernelspec": {
      "display_name": "Python 3",
      "language": "python",
      "name": "python3"
    },
    "language_info": {
      "codemirror_mode": {
        "name": "ipython",
        "version": 3
      },
      "file_extension": ".py",
      "mimetype": "text/x-python",
      "name": "python",
      "nbconvert_exporter": "python",
      "pygments_lexer": "ipython3",
      "version": "3.11.7"
    }
  },
  "nbformat": 4,
  "nbformat_minor": 0
}
