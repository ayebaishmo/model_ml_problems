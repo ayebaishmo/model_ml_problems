{
  "cells": [
    {
      "cell_type": "markdown",
      "metadata": {
        "id": "RUhphDysw-6P"
      },
      "source": [
        "## BloomTech Data Science\n",
        "\n",
        "---\n"
      ]
    },
    {
      "cell_type": "markdown",
      "metadata": {
        "id": "c9XvBGFMguJ1"
      },
      "source": [
        "# Define ML Problems\n",
        "- Data Leakage\n",
        "- ROC/AUC Curve\n",
        "\n"
      ]
    },
    {
      "cell_type": "code",
      "execution_count": 1,
      "metadata": {
        "ExecuteTime": {
          "end_time": "2023-07-07T13:57:46.034760Z",
          "start_time": "2023-07-07T13:57:44.163737Z"
        },
        "id": "kbOK7kIgwAWA"
      },
      "outputs": [],
      "source": [
        "# import pandas as pd\n",
        "# from sklearn.pipeline import make_pipeline\n",
        "# from sklearn.impute import SimpleImputer\n",
        "# from sklearn.ensemble import RandomForestClassifier\n",
        "# from sklearn.linear_model import LogisticRegression\n",
        "# from sklearn.preprocessing import StandardScaler\n",
        "# from sklearn.metrics import classification_report, roc_curve, ConfusionMatrixDisplay, \\\n",
        "#     RocCurveDisplay, roc_auc_score\n",
        "# import matplotlib.pyplot as plt"
      ]
    },
    {
      "cell_type": "code",
      "execution_count": null,
      "metadata": {
        "ExecuteTime": {
          "end_time": "2023-07-07T13:57:46.040704Z",
          "start_time": "2023-07-07T13:57:46.037681Z"
        },
        "id": "MBbory9ml1jJ"
      },
      "outputs": [],
      "source": [
        "# plot_confusion_matrix = ConfusionMatrixDisplay.from_estimator\n",
        "# plot_roc_curve = RocCurveDisplay.from_estimator"
      ]
    },
    {
      "cell_type": "code",
      "execution_count": null,
      "metadata": {
        "ExecuteTime": {
          "end_time": "2023-07-07T13:57:46.040915Z",
          "start_time": "2023-07-07T13:57:46.038160Z"
        },
        "id": "NxBBseZ3wE0g"
      },
      "outputs": [],
      "source": [
        "# pd.set_option('display.max_columns', 500)"
      ]
    },
    {
      "cell_type": "markdown",
      "metadata": {
        "id": "Vq41fT8Nva6t"
      },
      "source": [
        "# Define ML problems\n",
        "\n",
        "# I. Wrangle Data"
      ]
    },
    {
      "cell_type": "code",
      "execution_count": 4,
      "metadata": {
        "ExecuteTime": {
          "end_time": "2023-07-07T13:58:11.421756Z",
          "start_time": "2023-07-07T13:58:11.013027Z"
        },
        "id": "UwNaEoJsl1jK",
        "outputId": "a81bb490-50ad-4073-bb3a-d5399d986d15"
      },
      "outputs": [
        {
          "data": {
            "text/html": [
              "<div>\n",
              "<style scoped>\n",
              "    .dataframe tbody tr th:only-of-type {\n",
              "        vertical-align: middle;\n",
              "    }\n",
              "\n",
              "    .dataframe tbody tr th {\n",
              "        vertical-align: top;\n",
              "    }\n",
              "\n",
              "    .dataframe thead th {\n",
              "        text-align: right;\n",
              "    }\n",
              "</style>\n",
              "<table border=\"1\" class=\"dataframe\">\n",
              "  <thead>\n",
              "    <tr style=\"text-align: right;\">\n",
              "      <th></th>\n",
              "      <th>Location</th>\n",
              "      <th>Burrito</th>\n",
              "      <th>Date</th>\n",
              "      <th>Neighborhood</th>\n",
              "      <th>Address</th>\n",
              "      <th>URL</th>\n",
              "      <th>Yelp</th>\n",
              "      <th>Google</th>\n",
              "      <th>Chips</th>\n",
              "      <th>Cost</th>\n",
              "      <th>...</th>\n",
              "      <th>Nopales</th>\n",
              "      <th>Lobster</th>\n",
              "      <th>Queso</th>\n",
              "      <th>Egg</th>\n",
              "      <th>Mushroom</th>\n",
              "      <th>Bacon</th>\n",
              "      <th>Sushi</th>\n",
              "      <th>Avocado</th>\n",
              "      <th>Corn</th>\n",
              "      <th>Zucchini</th>\n",
              "    </tr>\n",
              "  </thead>\n",
              "  <tbody>\n",
              "    <tr>\n",
              "      <th>0</th>\n",
              "      <td>Donato's taco shop</td>\n",
              "      <td>California</td>\n",
              "      <td>1/18/2016</td>\n",
              "      <td>Miramar</td>\n",
              "      <td>6780 Miramar Rd</td>\n",
              "      <td>http://donatostacoshop.net/</td>\n",
              "      <td>3.5</td>\n",
              "      <td>4.2</td>\n",
              "      <td>NaN</td>\n",
              "      <td>6.49</td>\n",
              "      <td>...</td>\n",
              "      <td>NaN</td>\n",
              "      <td>NaN</td>\n",
              "      <td>NaN</td>\n",
              "      <td>NaN</td>\n",
              "      <td>NaN</td>\n",
              "      <td>NaN</td>\n",
              "      <td>NaN</td>\n",
              "      <td>NaN</td>\n",
              "      <td>NaN</td>\n",
              "      <td>NaN</td>\n",
              "    </tr>\n",
              "    <tr>\n",
              "      <th>1</th>\n",
              "      <td>Oscar's Mexican food</td>\n",
              "      <td>California</td>\n",
              "      <td>1/24/2016</td>\n",
              "      <td>San Marcos</td>\n",
              "      <td>225 S Rancho Santa Fe Rd</td>\n",
              "      <td>http://www.yelp.com/biz/oscars-mexican-food-sa...</td>\n",
              "      <td>3.5</td>\n",
              "      <td>3.3</td>\n",
              "      <td>NaN</td>\n",
              "      <td>5.45</td>\n",
              "      <td>...</td>\n",
              "      <td>NaN</td>\n",
              "      <td>NaN</td>\n",
              "      <td>NaN</td>\n",
              "      <td>NaN</td>\n",
              "      <td>NaN</td>\n",
              "      <td>NaN</td>\n",
              "      <td>NaN</td>\n",
              "      <td>NaN</td>\n",
              "      <td>NaN</td>\n",
              "      <td>NaN</td>\n",
              "    </tr>\n",
              "    <tr>\n",
              "      <th>2</th>\n",
              "      <td>Oscar's Mexican food</td>\n",
              "      <td>Carnitas</td>\n",
              "      <td>1/24/2016</td>\n",
              "      <td>NaN</td>\n",
              "      <td>NaN</td>\n",
              "      <td>NaN</td>\n",
              "      <td>NaN</td>\n",
              "      <td>NaN</td>\n",
              "      <td>NaN</td>\n",
              "      <td>4.85</td>\n",
              "      <td>...</td>\n",
              "      <td>NaN</td>\n",
              "      <td>NaN</td>\n",
              "      <td>NaN</td>\n",
              "      <td>NaN</td>\n",
              "      <td>NaN</td>\n",
              "      <td>NaN</td>\n",
              "      <td>NaN</td>\n",
              "      <td>NaN</td>\n",
              "      <td>NaN</td>\n",
              "      <td>NaN</td>\n",
              "    </tr>\n",
              "    <tr>\n",
              "      <th>3</th>\n",
              "      <td>Oscar's Mexican food</td>\n",
              "      <td>Carne asada</td>\n",
              "      <td>1/24/2016</td>\n",
              "      <td>NaN</td>\n",
              "      <td>NaN</td>\n",
              "      <td>NaN</td>\n",
              "      <td>NaN</td>\n",
              "      <td>NaN</td>\n",
              "      <td>NaN</td>\n",
              "      <td>5.25</td>\n",
              "      <td>...</td>\n",
              "      <td>NaN</td>\n",
              "      <td>NaN</td>\n",
              "      <td>NaN</td>\n",
              "      <td>NaN</td>\n",
              "      <td>NaN</td>\n",
              "      <td>NaN</td>\n",
              "      <td>NaN</td>\n",
              "      <td>NaN</td>\n",
              "      <td>NaN</td>\n",
              "      <td>NaN</td>\n",
              "    </tr>\n",
              "    <tr>\n",
              "      <th>4</th>\n",
              "      <td>Pollos Maria</td>\n",
              "      <td>California</td>\n",
              "      <td>1/27/2016</td>\n",
              "      <td>Carlsbad</td>\n",
              "      <td>3055 Harding St</td>\n",
              "      <td>http://pollosmaria.com/</td>\n",
              "      <td>4.0</td>\n",
              "      <td>3.8</td>\n",
              "      <td>x</td>\n",
              "      <td>6.59</td>\n",
              "      <td>...</td>\n",
              "      <td>NaN</td>\n",
              "      <td>NaN</td>\n",
              "      <td>NaN</td>\n",
              "      <td>NaN</td>\n",
              "      <td>NaN</td>\n",
              "      <td>NaN</td>\n",
              "      <td>NaN</td>\n",
              "      <td>NaN</td>\n",
              "      <td>NaN</td>\n",
              "      <td>NaN</td>\n",
              "    </tr>\n",
              "    <tr>\n",
              "      <th>...</th>\n",
              "      <td>...</td>\n",
              "      <td>...</td>\n",
              "      <td>...</td>\n",
              "      <td>...</td>\n",
              "      <td>...</td>\n",
              "      <td>...</td>\n",
              "      <td>...</td>\n",
              "      <td>...</td>\n",
              "      <td>...</td>\n",
              "      <td>...</td>\n",
              "      <td>...</td>\n",
              "      <td>...</td>\n",
              "      <td>...</td>\n",
              "      <td>...</td>\n",
              "      <td>...</td>\n",
              "      <td>...</td>\n",
              "      <td>...</td>\n",
              "      <td>...</td>\n",
              "      <td>...</td>\n",
              "      <td>...</td>\n",
              "      <td>...</td>\n",
              "    </tr>\n",
              "    <tr>\n",
              "      <th>418</th>\n",
              "      <td>Valentine's Mexican Food</td>\n",
              "      <td>Al Pastor</td>\n",
              "      <td>8/27/2019</td>\n",
              "      <td>NaN</td>\n",
              "      <td>NaN</td>\n",
              "      <td>NaN</td>\n",
              "      <td>NaN</td>\n",
              "      <td>NaN</td>\n",
              "      <td>NaN</td>\n",
              "      <td>6.00</td>\n",
              "      <td>...</td>\n",
              "      <td>NaN</td>\n",
              "      <td>NaN</td>\n",
              "      <td>NaN</td>\n",
              "      <td>NaN</td>\n",
              "      <td>NaN</td>\n",
              "      <td>NaN</td>\n",
              "      <td>NaN</td>\n",
              "      <td>NaN</td>\n",
              "      <td>NaN</td>\n",
              "      <td>NaN</td>\n",
              "    </tr>\n",
              "    <tr>\n",
              "      <th>419</th>\n",
              "      <td>Valentine's Mexican Food</td>\n",
              "      <td>Chile Relleno</td>\n",
              "      <td>8/27/2019</td>\n",
              "      <td>NaN</td>\n",
              "      <td>NaN</td>\n",
              "      <td>NaN</td>\n",
              "      <td>NaN</td>\n",
              "      <td>NaN</td>\n",
              "      <td>NaN</td>\n",
              "      <td>6.00</td>\n",
              "      <td>...</td>\n",
              "      <td>NaN</td>\n",
              "      <td>NaN</td>\n",
              "      <td>NaN</td>\n",
              "      <td>NaN</td>\n",
              "      <td>NaN</td>\n",
              "      <td>NaN</td>\n",
              "      <td>NaN</td>\n",
              "      <td>NaN</td>\n",
              "      <td>NaN</td>\n",
              "      <td>NaN</td>\n",
              "    </tr>\n",
              "    <tr>\n",
              "      <th>420</th>\n",
              "      <td>Valentine's Mexican Food</td>\n",
              "      <td>California</td>\n",
              "      <td>8/27/2019</td>\n",
              "      <td>NaN</td>\n",
              "      <td>NaN</td>\n",
              "      <td>NaN</td>\n",
              "      <td>NaN</td>\n",
              "      <td>NaN</td>\n",
              "      <td>NaN</td>\n",
              "      <td>7.90</td>\n",
              "      <td>...</td>\n",
              "      <td>NaN</td>\n",
              "      <td>NaN</td>\n",
              "      <td>NaN</td>\n",
              "      <td>NaN</td>\n",
              "      <td>NaN</td>\n",
              "      <td>NaN</td>\n",
              "      <td>NaN</td>\n",
              "      <td>NaN</td>\n",
              "      <td>NaN</td>\n",
              "      <td>NaN</td>\n",
              "    </tr>\n",
              "    <tr>\n",
              "      <th>421</th>\n",
              "      <td>Valentine's Mexican Food</td>\n",
              "      <td>Shrimp</td>\n",
              "      <td>8/27/2019</td>\n",
              "      <td>NaN</td>\n",
              "      <td>NaN</td>\n",
              "      <td>NaN</td>\n",
              "      <td>NaN</td>\n",
              "      <td>NaN</td>\n",
              "      <td>NaN</td>\n",
              "      <td>7.90</td>\n",
              "      <td>...</td>\n",
              "      <td>NaN</td>\n",
              "      <td>NaN</td>\n",
              "      <td>NaN</td>\n",
              "      <td>NaN</td>\n",
              "      <td>NaN</td>\n",
              "      <td>NaN</td>\n",
              "      <td>NaN</td>\n",
              "      <td>NaN</td>\n",
              "      <td>NaN</td>\n",
              "      <td>NaN</td>\n",
              "    </tr>\n",
              "    <tr>\n",
              "      <th>422</th>\n",
              "      <td>Valentine's Mexican Food</td>\n",
              "      <td>Pollo Asado</td>\n",
              "      <td>8/27/2019</td>\n",
              "      <td>NaN</td>\n",
              "      <td>NaN</td>\n",
              "      <td>NaN</td>\n",
              "      <td>NaN</td>\n",
              "      <td>NaN</td>\n",
              "      <td>NaN</td>\n",
              "      <td>5.50</td>\n",
              "      <td>...</td>\n",
              "      <td>NaN</td>\n",
              "      <td>NaN</td>\n",
              "      <td>NaN</td>\n",
              "      <td>NaN</td>\n",
              "      <td>NaN</td>\n",
              "      <td>NaN</td>\n",
              "      <td>NaN</td>\n",
              "      <td>NaN</td>\n",
              "      <td>NaN</td>\n",
              "      <td>NaN</td>\n",
              "    </tr>\n",
              "  </tbody>\n",
              "</table>\n",
              "<p>423 rows × 66 columns</p>\n",
              "</div>"
            ],
            "text/plain": [
              "                     Location        Burrito       Date Neighborhood  \\\n",
              "0          Donato's taco shop    California   1/18/2016      Miramar   \n",
              "1        Oscar's Mexican food    California   1/24/2016   San Marcos   \n",
              "2        Oscar's Mexican food       Carnitas  1/24/2016          NaN   \n",
              "3        Oscar's Mexican food    Carne asada  1/24/2016          NaN   \n",
              "4                Pollos Maria     California  1/27/2016     Carlsbad   \n",
              "..                        ...            ...        ...          ...   \n",
              "418  Valentine's Mexican Food      Al Pastor  8/27/2019          NaN   \n",
              "419  Valentine's Mexican Food  Chile Relleno  8/27/2019          NaN   \n",
              "420  Valentine's Mexican Food     California  8/27/2019          NaN   \n",
              "421  Valentine's Mexican Food         Shrimp  8/27/2019          NaN   \n",
              "422  Valentine's Mexican Food    Pollo Asado  8/27/2019          NaN   \n",
              "\n",
              "                      Address  \\\n",
              "0             6780 Miramar Rd   \n",
              "1    225 S Rancho Santa Fe Rd   \n",
              "2                         NaN   \n",
              "3                         NaN   \n",
              "4             3055 Harding St   \n",
              "..                        ...   \n",
              "418                       NaN   \n",
              "419                       NaN   \n",
              "420                       NaN   \n",
              "421                       NaN   \n",
              "422                       NaN   \n",
              "\n",
              "                                                   URL  Yelp  Google Chips  \\\n",
              "0                          http://donatostacoshop.net/   3.5     4.2   NaN   \n",
              "1    http://www.yelp.com/biz/oscars-mexican-food-sa...   3.5     3.3   NaN   \n",
              "2                                                  NaN   NaN     NaN   NaN   \n",
              "3                                                  NaN   NaN     NaN   NaN   \n",
              "4                              http://pollosmaria.com/   4.0     3.8     x   \n",
              "..                                                 ...   ...     ...   ...   \n",
              "418                                                NaN   NaN     NaN   NaN   \n",
              "419                                                NaN   NaN     NaN   NaN   \n",
              "420                                                NaN   NaN     NaN   NaN   \n",
              "421                                                NaN   NaN     NaN   NaN   \n",
              "422                                                NaN   NaN     NaN   NaN   \n",
              "\n",
              "     Cost  ...  Nopales  Lobster  Queso  Egg  Mushroom  Bacon  Sushi  Avocado  \\\n",
              "0    6.49  ...      NaN      NaN    NaN  NaN       NaN    NaN    NaN      NaN   \n",
              "1    5.45  ...      NaN      NaN    NaN  NaN       NaN    NaN    NaN      NaN   \n",
              "2    4.85  ...      NaN      NaN    NaN  NaN       NaN    NaN    NaN      NaN   \n",
              "3    5.25  ...      NaN      NaN    NaN  NaN       NaN    NaN    NaN      NaN   \n",
              "4    6.59  ...      NaN      NaN    NaN  NaN       NaN    NaN    NaN      NaN   \n",
              "..    ...  ...      ...      ...    ...  ...       ...    ...    ...      ...   \n",
              "418  6.00  ...      NaN      NaN    NaN  NaN       NaN    NaN    NaN      NaN   \n",
              "419  6.00  ...      NaN      NaN    NaN  NaN       NaN    NaN    NaN      NaN   \n",
              "420  7.90  ...      NaN      NaN    NaN  NaN       NaN    NaN    NaN      NaN   \n",
              "421  7.90  ...      NaN      NaN    NaN  NaN       NaN    NaN    NaN      NaN   \n",
              "422  5.50  ...      NaN      NaN    NaN  NaN       NaN    NaN    NaN      NaN   \n",
              "\n",
              "     Corn  Zucchini  \n",
              "0     NaN       NaN  \n",
              "1     NaN       NaN  \n",
              "2     NaN       NaN  \n",
              "3     NaN       NaN  \n",
              "4     NaN       NaN  \n",
              "..    ...       ...  \n",
              "418   NaN       NaN  \n",
              "419   NaN       NaN  \n",
              "420   NaN       NaN  \n",
              "421   NaN       NaN  \n",
              "422   NaN       NaN  \n",
              "\n",
              "[423 rows x 66 columns]"
            ]
          },
          "execution_count": 4,
          "metadata": {},
          "output_type": "execute_result"
        }
      ],
      "source": [
        "import numpy as np\n",
        "import pandas as pd\n",
        "DATA_PATH = 'https://raw.githubusercontent.com/bloominstituteoftechnology/DS-Unit-2-Applied-Modeling/master/data/'\n",
        "\n",
        "pd.read_csv(DATA_PATH + 'burritos/burritos.csv')"
      ]
    },
    {
      "cell_type": "code",
      "execution_count": 5,
      "metadata": {
        "ExecuteTime": {
          "end_time": "2023-07-07T13:58:35.277652Z",
          "start_time": "2023-07-07T13:58:35.261248Z"
        },
        "id": "7rPiEC4Dva6y"
      },
      "outputs": [],
      "source": [
        "def wrangle(filepath):\n",
        "\n",
        "    # Import w/ DateTimeIndex\n",
        "    df = pd.read_csv(filepath, parse_dates=['Date'], index_col='Date')\n",
        "\n",
        "    # drop rows with no overall rating\n",
        "    df.dropna(subset=['overall'], inplace=True)\n",
        "\n",
        "    # Create `'great'` column as target\n",
        "    df['great'] = (df['overall'] >= 4).astype(int)\n",
        "\n",
        "    # Drop overall column to prevent data leakage\n",
        "    df.drop(columns='overall', inplace=True)\n",
        "\n",
        "    # Clean binary encoded columns\n",
        "    categorical_cols = df.select_dtypes('object').columns\n",
        "    # use categorical columns which are basically binary encoded\n",
        "    binary_cols = [col for col in categorical_cols if df[col].nunique() < 4]\n",
        "    for col in binary_cols:\n",
        "        df[col] = df[col].apply(lambda x: 1 if isinstance(x, str) else 0)\n",
        "\n",
        "    # Drop high-cardinality categorical variables\n",
        "    threshold = 20\n",
        "\n",
        "    high_card_cols = [col for col in categorical_cols\n",
        "                      if df[col].nunique() > threshold]\n",
        "    df.drop(high_card_cols, axis=1, inplace=True)\n",
        "\n",
        "    # Dropping columns with high number of NaN values\n",
        "    df.dropna(axis=1, thresh=300, inplace=True)\n",
        "\n",
        "    return df"
      ]
    },
    {
      "cell_type": "code",
      "execution_count": 6,
      "metadata": {
        "ExecuteTime": {
          "end_time": "2023-07-07T13:58:36.144501Z",
          "start_time": "2023-07-07T13:58:35.762981Z"
        },
        "id": "m3NYTxupva6z",
        "outputId": "a8dc1f65-8bca-432d-9f2f-79fb24a925f0"
      },
      "outputs": [
        {
          "data": {
            "text/html": [
              "<div>\n",
              "<style scoped>\n",
              "    .dataframe tbody tr th:only-of-type {\n",
              "        vertical-align: middle;\n",
              "    }\n",
              "\n",
              "    .dataframe tbody tr th {\n",
              "        vertical-align: top;\n",
              "    }\n",
              "\n",
              "    .dataframe thead th {\n",
              "        text-align: right;\n",
              "    }\n",
              "</style>\n",
              "<table border=\"1\" class=\"dataframe\">\n",
              "  <thead>\n",
              "    <tr style=\"text-align: right;\">\n",
              "      <th></th>\n",
              "      <th>Cost</th>\n",
              "      <th>Hunger</th>\n",
              "      <th>Tortilla</th>\n",
              "      <th>Temp</th>\n",
              "      <th>Meat</th>\n",
              "      <th>Fillings</th>\n",
              "      <th>Meat:filling</th>\n",
              "      <th>Uniformity</th>\n",
              "      <th>Salsa</th>\n",
              "      <th>Synergy</th>\n",
              "      <th>...</th>\n",
              "      <th>Nopales</th>\n",
              "      <th>Lobster</th>\n",
              "      <th>Egg</th>\n",
              "      <th>Mushroom</th>\n",
              "      <th>Bacon</th>\n",
              "      <th>Sushi</th>\n",
              "      <th>Avocado</th>\n",
              "      <th>Corn</th>\n",
              "      <th>Zucchini</th>\n",
              "      <th>great</th>\n",
              "    </tr>\n",
              "    <tr>\n",
              "      <th>Date</th>\n",
              "      <th></th>\n",
              "      <th></th>\n",
              "      <th></th>\n",
              "      <th></th>\n",
              "      <th></th>\n",
              "      <th></th>\n",
              "      <th></th>\n",
              "      <th></th>\n",
              "      <th></th>\n",
              "      <th></th>\n",
              "      <th></th>\n",
              "      <th></th>\n",
              "      <th></th>\n",
              "      <th></th>\n",
              "      <th></th>\n",
              "      <th></th>\n",
              "      <th></th>\n",
              "      <th></th>\n",
              "      <th></th>\n",
              "      <th></th>\n",
              "      <th></th>\n",
              "    </tr>\n",
              "  </thead>\n",
              "  <tbody>\n",
              "    <tr>\n",
              "      <th>2016-01-18</th>\n",
              "      <td>6.49</td>\n",
              "      <td>3.0</td>\n",
              "      <td>3.0</td>\n",
              "      <td>5.0</td>\n",
              "      <td>3.0</td>\n",
              "      <td>3.5</td>\n",
              "      <td>4.0</td>\n",
              "      <td>4.0</td>\n",
              "      <td>4.0</td>\n",
              "      <td>4.0</td>\n",
              "      <td>...</td>\n",
              "      <td>0</td>\n",
              "      <td>0</td>\n",
              "      <td>0</td>\n",
              "      <td>0</td>\n",
              "      <td>0</td>\n",
              "      <td>0</td>\n",
              "      <td>0</td>\n",
              "      <td>0</td>\n",
              "      <td>0</td>\n",
              "      <td>0</td>\n",
              "    </tr>\n",
              "    <tr>\n",
              "      <th>2016-01-24</th>\n",
              "      <td>5.45</td>\n",
              "      <td>3.5</td>\n",
              "      <td>2.0</td>\n",
              "      <td>3.5</td>\n",
              "      <td>2.5</td>\n",
              "      <td>2.5</td>\n",
              "      <td>2.0</td>\n",
              "      <td>4.0</td>\n",
              "      <td>3.5</td>\n",
              "      <td>2.5</td>\n",
              "      <td>...</td>\n",
              "      <td>0</td>\n",
              "      <td>0</td>\n",
              "      <td>0</td>\n",
              "      <td>0</td>\n",
              "      <td>0</td>\n",
              "      <td>0</td>\n",
              "      <td>0</td>\n",
              "      <td>0</td>\n",
              "      <td>0</td>\n",
              "      <td>0</td>\n",
              "    </tr>\n",
              "    <tr>\n",
              "      <th>2016-01-24</th>\n",
              "      <td>4.85</td>\n",
              "      <td>1.5</td>\n",
              "      <td>3.0</td>\n",
              "      <td>2.0</td>\n",
              "      <td>2.5</td>\n",
              "      <td>3.0</td>\n",
              "      <td>4.5</td>\n",
              "      <td>4.0</td>\n",
              "      <td>3.0</td>\n",
              "      <td>3.0</td>\n",
              "      <td>...</td>\n",
              "      <td>0</td>\n",
              "      <td>0</td>\n",
              "      <td>0</td>\n",
              "      <td>0</td>\n",
              "      <td>0</td>\n",
              "      <td>0</td>\n",
              "      <td>0</td>\n",
              "      <td>0</td>\n",
              "      <td>0</td>\n",
              "      <td>0</td>\n",
              "    </tr>\n",
              "    <tr>\n",
              "      <th>2016-01-24</th>\n",
              "      <td>5.25</td>\n",
              "      <td>2.0</td>\n",
              "      <td>3.0</td>\n",
              "      <td>2.0</td>\n",
              "      <td>3.5</td>\n",
              "      <td>3.0</td>\n",
              "      <td>4.0</td>\n",
              "      <td>5.0</td>\n",
              "      <td>4.0</td>\n",
              "      <td>4.0</td>\n",
              "      <td>...</td>\n",
              "      <td>0</td>\n",
              "      <td>0</td>\n",
              "      <td>0</td>\n",
              "      <td>0</td>\n",
              "      <td>0</td>\n",
              "      <td>0</td>\n",
              "      <td>0</td>\n",
              "      <td>0</td>\n",
              "      <td>0</td>\n",
              "      <td>0</td>\n",
              "    </tr>\n",
              "    <tr>\n",
              "      <th>2016-01-27</th>\n",
              "      <td>6.59</td>\n",
              "      <td>4.0</td>\n",
              "      <td>4.0</td>\n",
              "      <td>5.0</td>\n",
              "      <td>4.0</td>\n",
              "      <td>3.5</td>\n",
              "      <td>4.5</td>\n",
              "      <td>5.0</td>\n",
              "      <td>2.5</td>\n",
              "      <td>4.5</td>\n",
              "      <td>...</td>\n",
              "      <td>0</td>\n",
              "      <td>0</td>\n",
              "      <td>0</td>\n",
              "      <td>0</td>\n",
              "      <td>0</td>\n",
              "      <td>0</td>\n",
              "      <td>0</td>\n",
              "      <td>0</td>\n",
              "      <td>0</td>\n",
              "      <td>1</td>\n",
              "    </tr>\n",
              "  </tbody>\n",
              "</table>\n",
              "<p>5 rows × 48 columns</p>\n",
              "</div>"
            ],
            "text/plain": [
              "            Cost  Hunger  Tortilla  Temp  Meat  Fillings  Meat:filling  \\\n",
              "Date                                                                     \n",
              "2016-01-18  6.49     3.0       3.0   5.0   3.0       3.5           4.0   \n",
              "2016-01-24  5.45     3.5       2.0   3.5   2.5       2.5           2.0   \n",
              "2016-01-24  4.85     1.5       3.0   2.0   2.5       3.0           4.5   \n",
              "2016-01-24  5.25     2.0       3.0   2.0   3.5       3.0           4.0   \n",
              "2016-01-27  6.59     4.0       4.0   5.0   4.0       3.5           4.5   \n",
              "\n",
              "            Uniformity  Salsa  Synergy  ...  Nopales  Lobster  Egg  Mushroom  \\\n",
              "Date                                    ...                                    \n",
              "2016-01-18         4.0    4.0      4.0  ...        0        0    0         0   \n",
              "2016-01-24         4.0    3.5      2.5  ...        0        0    0         0   \n",
              "2016-01-24         4.0    3.0      3.0  ...        0        0    0         0   \n",
              "2016-01-24         5.0    4.0      4.0  ...        0        0    0         0   \n",
              "2016-01-27         5.0    2.5      4.5  ...        0        0    0         0   \n",
              "\n",
              "            Bacon  Sushi  Avocado  Corn  Zucchini  great  \n",
              "Date                                                      \n",
              "2016-01-18      0      0        0     0         0      0  \n",
              "2016-01-24      0      0        0     0         0      0  \n",
              "2016-01-24      0      0        0     0         0      0  \n",
              "2016-01-24      0      0        0     0         0      0  \n",
              "2016-01-27      0      0        0     0         0      1  \n",
              "\n",
              "[5 rows x 48 columns]"
            ]
          },
          "execution_count": 6,
          "metadata": {},
          "output_type": "execute_result"
        }
      ],
      "source": [
        "df = wrangle(DATA_PATH + 'burritos/burritos.csv')\n",
        "df.head()"
      ]
    },
    {
      "cell_type": "markdown",
      "metadata": {
        "id": "f8rbc3w4va6z"
      },
      "source": [
        "# II. Split Data"
      ]
    },
    {
      "cell_type": "code",
      "execution_count": 8,
      "metadata": {
        "id": "Jl1Lpcz1va6z"
      },
      "outputs": [],
      "source": [
        "target =  'great'\n",
        "y = df[target]\n",
        "X = df.drop(target, axis=1)"
      ]
    },
    {
      "cell_type": "code",
      "execution_count": 9,
      "metadata": {
        "id": "uo9ClwwFeD45"
      },
      "outputs": [
        {
          "data": {
            "text/plain": [
              "<Axes: xlabel='great'>"
            ]
          },
          "execution_count": 9,
          "metadata": {},
          "output_type": "execute_result"
        },
        {
          "data": {
            "image/png": "[encoded data removed]",
            "text/plain": [
              "<Figure size 640x480 with 1 Axes>"
            ]
          },
          "metadata": {},
          "output_type": "display_data"
        }
      ],
      "source": [
        "y.value_counts(normalize=True).plot(kind='bar')"
      ]
    },
    {
      "cell_type": "code",
      "execution_count": 10,
      "metadata": {
        "id": "jzOG1xEKeD0Y"
      },
      "outputs": [
        {
          "data": {
            "text/plain": [
              "Date\n",
              "2011-12-31      0\n",
              "2012-12-31      0\n",
              "2013-12-31      0\n",
              "2014-12-31      0\n",
              "2015-12-31      1\n",
              "2016-12-31    121\n",
              "2017-12-31     38\n",
              "2018-12-31     13\n",
              "2019-12-31      8\n",
              "2020-12-31      0\n",
              "2021-12-31      0\n",
              "2022-12-31      0\n",
              "2023-12-31      0\n",
              "2024-12-31      0\n",
              "2025-12-31      0\n",
              "2026-12-31      1\n",
              "Freq: A-DEC, Name: great, dtype: int32"
            ]
          },
          "execution_count": 10,
          "metadata": {},
          "output_type": "execute_result"
        }
      ],
      "source": [
        "y.resample('y').sum()"
      ]
    },
    {
      "cell_type": "code",
      "execution_count": null,
      "metadata": {
        "id": "s4WvxEQQeLAS"
      },
      "outputs": [],
      "source": []
    },
    {
      "cell_type": "code",
      "execution_count": 11,
      "metadata": {
        "id": "7bhMI4L0eK9K"
      },
      "outputs": [],
      "source": [
        "# Training\n",
        "train_mask = X.index.year < 2017\n",
        "X_train, y_train = X.loc[train_mask], y.loc[train_mask]\n",
        "\n",
        "# Validation\n",
        "validation_mask = X.index.year == 2017\n",
        "X_val, y_val = X.loc[validation_mask], y.loc[validation_mask]\n",
        "\n",
        "# Testing\n",
        "test_mask = X.index.year > 2017\n",
        "X_test, y_test = X.loc[test_mask], y.loc[test_mask]"
      ]
    },
    {
      "cell_type": "markdown",
      "metadata": {
        "id": "prtl34EAva60"
      },
      "source": [
        "# III. Establish Baseline"
      ]
    },
    {
      "cell_type": "code",
      "execution_count": 12,
      "metadata": {
        "id": "0eiKgO3ova61"
      },
      "outputs": [
        {
          "name": "stdout",
          "output_type": "stream",
          "text": [
            "Baseline accuracy: 0.5906040268456376\n"
          ]
        }
      ],
      "source": [
        "print('Baseline accuracy:', y_train.value_counts(normalize=True).max())"
      ]
    },
    {
      "cell_type": "markdown",
      "metadata": {
        "id": "OqGoXIPEva61"
      },
      "source": [
        "# IV. Build Model"
      ]
    },
    {
      "cell_type": "code",
      "execution_count": 13,
      "metadata": {
        "id": "ADAlN37Kd3Wx"
      },
      "outputs": [],
      "source": [
        "# Model 1: Logistic Regression\n",
        "from sklearn.pipeline import make_pipeline\n",
        "from sklearn.impute import SimpleImputer\n",
        "from sklearn.preprocessing import StandardScaler\n",
        "from sklearn.linear_model import LogisticRegression\n",
        "\n",
        "model_lr = make_pipeline(\n",
        "    SimpleImputer(),\n",
        "    StandardScaler(),\n",
        "    LogisticRegression()\n",
        ")\n",
        "\n",
        "model_lr.fit(X_train, y_train);"
      ]
    },
    {
      "cell_type": "code",
      "execution_count": 14,
      "metadata": {
        "id": "EDfn0lH_d3K1"
      },
      "outputs": [],
      "source": [
        "# Model 2: Random Forest\n",
        "from sklearn.ensemble import RandomForestClassifier\n",
        "model_rf = make_pipeline(\n",
        "    SimpleImputer(),\n",
        "    RandomForestClassifier(n_jobs=-1)\n",
        ")\n",
        "\n",
        "model_rf.fit(X_train, y_train);"
      ]
    },
    {
      "cell_type": "markdown",
      "metadata": {
        "id": "pPfWN9ezva62"
      },
      "source": [
        "# V. Check Metrics\n",
        "\n",
        "**Accuracy**"
      ]
    },
    {
      "cell_type": "markdown",
      "metadata": {
        "id": "oOlu9-sUx-uE"
      },
      "source": [
        "accuracy = (tp + tn) / (tp + fp + tn + fn)"
      ]
    },
    {
      "cell_type": "code",
      "execution_count": 15,
      "metadata": {
        "id": "lQg8Ey0sva63"
      },
      "outputs": [
        {
          "name": "stdout",
          "output_type": "stream",
          "text": [
            "Training Accuracy (LOGR): 0.912751677852349\n",
            "Validation Accuracy (LOGR): 0.788235294117647\n"
          ]
        }
      ],
      "source": [
        "print('Training Accuracy (LOGR):', model_lr.score(X_train, y_train))\n",
        "print('Validation Accuracy (LOGR):', model_lr.score(X_val, y_val))"
      ]
    },
    {
      "cell_type": "code",
      "execution_count": 16,
      "metadata": {
        "id": "bJeP3RHAva62"
      },
      "outputs": [
        {
          "name": "stdout",
          "output_type": "stream",
          "text": [
            "Training Accuracy (RF): 1.0\n",
            "Validation Accuracy (RF): 0.8705882352941177\n"
          ]
        }
      ],
      "source": [
        "print('Training Accuracy (RF):', model_rf.score(X_train, y_train))\n",
        "print('Validation Accuracy (RF):', model_rf.score(X_val, y_val))"
      ]
    },
    {
      "cell_type": "markdown",
      "metadata": {
        "id": "C6CeKOr1va63"
      },
      "source": [
        "**Precision, Recall, F1**"
      ]
    },
    {
      "cell_type": "markdown",
      "metadata": {
        "id": "pebzRbKmDAg4"
      },
      "source": [
        "precision = tp / (tp + fp)\n",
        "\n",
        "\n",
        "recall = tp / (tp + fn)"
      ]
    },
    {
      "cell_type": "code",
      "execution_count": 17,
      "metadata": {
        "id": "TOkMtLBidZ3o"
      },
      "outputs": [
        {
          "name": "stdout",
          "output_type": "stream",
          "text": [
            "Logistic Regression\n",
            "              precision    recall  f1-score   support\n",
            "\n",
            "           0       0.89      0.70      0.79        47\n",
            "           1       0.71      0.89      0.79        38\n",
            "\n",
            "    accuracy                           0.79        85\n",
            "   macro avg       0.80      0.80      0.79        85\n",
            "weighted avg       0.81      0.79      0.79        85\n",
            "\n"
          ]
        },
        {
          "data": {
            "text/plain": [
              "<sklearn.metrics._plot.confusion_matrix.ConfusionMatrixDisplay at 0x1d55b146410>"
            ]
          },
          "execution_count": 17,
          "metadata": {},
          "output_type": "execute_result"
        },
        {
          "data": {
            "image/png": "[encoded data removed]",
            "text/plain": [
              "<Figure size 640x480 with 2 Axes>"
            ]
          },
          "metadata": {},
          "output_type": "display_data"
        }
      ],
      "source": [
        "from sklearn.metrics import classification_report, ConfusionMatrixDisplay\n",
        "plot_confusion_matrix = ConfusionMatrixDisplay.from_estimator\n",
        "\n",
        "print('Logistic Regression')\n",
        "print(classification_report(y_val, model_lr.predict(X_val)))\n",
        "plot_confusion_matrix(model_lr, X_val, y_val)"
      ]
    },
    {
      "cell_type": "code",
      "execution_count": 18,
      "metadata": {
        "id": "uvfPDjTWdZyO"
      },
      "outputs": [
        {
          "name": "stdout",
          "output_type": "stream",
          "text": [
            "Random Forest\n",
            "              precision    recall  f1-score   support\n",
            "\n",
            "           0       0.91      0.85      0.88        47\n",
            "           1       0.83      0.89      0.86        38\n",
            "\n",
            "    accuracy                           0.87        85\n",
            "   macro avg       0.87      0.87      0.87        85\n",
            "weighted avg       0.87      0.87      0.87        85\n",
            "\n"
          ]
        },
        {
          "data": {
            "text/plain": [
              "<sklearn.metrics._plot.confusion_matrix.ConfusionMatrixDisplay at 0x1d55b434190>"
            ]
          },
          "execution_count": 18,
          "metadata": {},
          "output_type": "execute_result"
        },
        {
          "data": {
            "image/png": "[encoded data removed]",
            "text/plain": [
              "<Figure size 640x480 with 2 Axes>"
            ]
          },
          "metadata": {},
          "output_type": "display_data"
        }
      ],
      "source": [
        "print('Random Forest')\n",
        "print(classification_report(y_val, model_rf.predict(X_val)))\n",
        "plot_confusion_matrix(model_rf, X_val, y_val)"
      ]
    },
    {
      "cell_type": "code",
      "execution_count": null,
      "metadata": {
        "id": "6f7u0xK9dZmR"
      },
      "outputs": [],
      "source": []
    },
    {
      "cell_type": "code",
      "execution_count": null,
      "metadata": {
        "id": "E7lRwkUEdZiG"
      },
      "outputs": [],
      "source": []
    },
    {
      "cell_type": "markdown",
      "metadata": {
        "id": "yEjKr5Clva64"
      },
      "source": [
        "**ROC curve**\n"
      ]
    },
    {
      "cell_type": "code",
      "execution_count": 23,
      "metadata": {
        "id": "6ElkFY5SkvJr"
      },
      "outputs": [
        {
          "name": "stdout",
          "output_type": "stream",
          "text": [
            "Roc curve for logistic model\n"
          ]
        },
        {
          "data": {
            "image/png": "[encoded data removed]",
            "text/plain": [
              "<Figure size 640x480 with 1 Axes>"
            ]
          },
          "metadata": {},
          "output_type": "display_data"
        }
      ],
      "source": [
        "from sklearn.metrics import roc_curve, RocCurveDisplay\n",
        "plot_roc_curve = RocCurveDisplay.from_estimator\n",
        "print(\"Roc curve for logistic model\")\n",
        "lr = plot_roc_curve(\n",
        "    model_lr,\n",
        "    X_val,\n",
        "    y_val,\n",
        "    name = 'Logistic regression'\n",
        ")\n",
        "\n",
        "rf = plot_roc_curve(\n",
        "    model_rf,\n",
        "    X_val,\n",
        "    y_val,\n",
        "    ax = lr.ax_,\n",
        "    name = 'Random forest Classifier'\n",
        ")"
      ]
    },
    {
      "cell_type": "code",
      "execution_count": 28,
      "metadata": {},
      "outputs": [
        {
          "name": "stdout",
          "output_type": "stream",
          "text": [
            "0.9384098544232923\n",
            "0.9473684210526316\n"
          ]
        }
      ],
      "source": [
        "from sklearn.metrics import roc_auc_score\n",
        "print(roc_auc_score(y_val, model_lr.predict_proba(X_val)[:,-1]))\n",
        "print(roc_auc_score(y_val, model_rf.predict_proba(X_val)[:,-1]))"
      ]
    },
    {
      "cell_type": "code",
      "execution_count": 32,
      "metadata": {
        "id": "qA5mJEsMdQRW"
      },
      "outputs": [
        {
          "data": {
            "text/html": [
              "<div>\n",
              "<style scoped>\n",
              "    .dataframe tbody tr th:only-of-type {\n",
              "        vertical-align: middle;\n",
              "    }\n",
              "\n",
              "    .dataframe tbody tr th {\n",
              "        vertical-align: top;\n",
              "    }\n",
              "\n",
              "    .dataframe thead th {\n",
              "        text-align: right;\n",
              "    }\n",
              "</style>\n",
              "<table border=\"1\" class=\"dataframe\">\n",
              "  <thead>\n",
              "    <tr style=\"text-align: right;\">\n",
              "      <th></th>\n",
              "      <th>false_pos_rate</th>\n",
              "      <th>true_pos_rate</th>\n",
              "      <th>thresholds</th>\n",
              "    </tr>\n",
              "  </thead>\n",
              "  <tbody>\n",
              "    <tr>\n",
              "      <th>0</th>\n",
              "      <td>0.000000</td>\n",
              "      <td>0.000000</td>\n",
              "      <td>inf</td>\n",
              "    </tr>\n",
              "    <tr>\n",
              "      <th>1</th>\n",
              "      <td>0.000000</td>\n",
              "      <td>0.052632</td>\n",
              "      <td>1.00</td>\n",
              "    </tr>\n",
              "    <tr>\n",
              "      <th>2</th>\n",
              "      <td>0.000000</td>\n",
              "      <td>0.078947</td>\n",
              "      <td>0.99</td>\n",
              "    </tr>\n",
              "    <tr>\n",
              "      <th>3</th>\n",
              "      <td>0.000000</td>\n",
              "      <td>0.157895</td>\n",
              "      <td>0.98</td>\n",
              "    </tr>\n",
              "    <tr>\n",
              "      <th>4</th>\n",
              "      <td>0.000000</td>\n",
              "      <td>0.184211</td>\n",
              "      <td>0.97</td>\n",
              "    </tr>\n",
              "    <tr>\n",
              "      <th>5</th>\n",
              "      <td>0.000000</td>\n",
              "      <td>0.236842</td>\n",
              "      <td>0.96</td>\n",
              "    </tr>\n",
              "    <tr>\n",
              "      <th>6</th>\n",
              "      <td>0.000000</td>\n",
              "      <td>0.289474</td>\n",
              "      <td>0.92</td>\n",
              "    </tr>\n",
              "    <tr>\n",
              "      <th>7</th>\n",
              "      <td>0.000000</td>\n",
              "      <td>0.394737</td>\n",
              "      <td>0.85</td>\n",
              "    </tr>\n",
              "    <tr>\n",
              "      <th>8</th>\n",
              "      <td>0.000000</td>\n",
              "      <td>0.421053</td>\n",
              "      <td>0.84</td>\n",
              "    </tr>\n",
              "    <tr>\n",
              "      <th>9</th>\n",
              "      <td>0.021277</td>\n",
              "      <td>0.447368</td>\n",
              "      <td>0.83</td>\n",
              "    </tr>\n",
              "    <tr>\n",
              "      <th>10</th>\n",
              "      <td>0.021277</td>\n",
              "      <td>0.473684</td>\n",
              "      <td>0.81</td>\n",
              "    </tr>\n",
              "    <tr>\n",
              "      <th>11</th>\n",
              "      <td>0.021277</td>\n",
              "      <td>0.552632</td>\n",
              "      <td>0.80</td>\n",
              "    </tr>\n",
              "    <tr>\n",
              "      <th>12</th>\n",
              "      <td>0.021277</td>\n",
              "      <td>0.578947</td>\n",
              "      <td>0.79</td>\n",
              "    </tr>\n",
              "    <tr>\n",
              "      <th>13</th>\n",
              "      <td>0.021277</td>\n",
              "      <td>0.631579</td>\n",
              "      <td>0.78</td>\n",
              "    </tr>\n",
              "    <tr>\n",
              "      <th>14</th>\n",
              "      <td>0.042553</td>\n",
              "      <td>0.631579</td>\n",
              "      <td>0.77</td>\n",
              "    </tr>\n",
              "    <tr>\n",
              "      <th>15</th>\n",
              "      <td>0.042553</td>\n",
              "      <td>0.684211</td>\n",
              "      <td>0.69</td>\n",
              "    </tr>\n",
              "    <tr>\n",
              "      <th>16</th>\n",
              "      <td>0.042553</td>\n",
              "      <td>0.842105</td>\n",
              "      <td>0.63</td>\n",
              "    </tr>\n",
              "    <tr>\n",
              "      <th>17</th>\n",
              "      <td>0.042553</td>\n",
              "      <td>0.868421</td>\n",
              "      <td>0.62</td>\n",
              "    </tr>\n",
              "    <tr>\n",
              "      <th>18</th>\n",
              "      <td>0.085106</td>\n",
              "      <td>0.868421</td>\n",
              "      <td>0.58</td>\n",
              "    </tr>\n",
              "    <tr>\n",
              "      <th>19</th>\n",
              "      <td>0.106383</td>\n",
              "      <td>0.894737</td>\n",
              "      <td>0.56</td>\n",
              "    </tr>\n",
              "    <tr>\n",
              "      <th>20</th>\n",
              "      <td>0.148936</td>\n",
              "      <td>0.894737</td>\n",
              "      <td>0.51</td>\n",
              "    </tr>\n",
              "    <tr>\n",
              "      <th>21</th>\n",
              "      <td>0.148936</td>\n",
              "      <td>0.921053</td>\n",
              "      <td>0.47</td>\n",
              "    </tr>\n",
              "    <tr>\n",
              "      <th>22</th>\n",
              "      <td>0.234043</td>\n",
              "      <td>0.921053</td>\n",
              "      <td>0.46</td>\n",
              "    </tr>\n",
              "    <tr>\n",
              "      <th>23</th>\n",
              "      <td>0.255319</td>\n",
              "      <td>0.921053</td>\n",
              "      <td>0.45</td>\n",
              "    </tr>\n",
              "    <tr>\n",
              "      <th>24</th>\n",
              "      <td>0.297872</td>\n",
              "      <td>0.921053</td>\n",
              "      <td>0.39</td>\n",
              "    </tr>\n",
              "    <tr>\n",
              "      <th>25</th>\n",
              "      <td>0.297872</td>\n",
              "      <td>0.947368</td>\n",
              "      <td>0.37</td>\n",
              "    </tr>\n",
              "    <tr>\n",
              "      <th>26</th>\n",
              "      <td>0.340426</td>\n",
              "      <td>0.947368</td>\n",
              "      <td>0.36</td>\n",
              "    </tr>\n",
              "    <tr>\n",
              "      <th>27</th>\n",
              "      <td>0.361702</td>\n",
              "      <td>0.947368</td>\n",
              "      <td>0.35</td>\n",
              "    </tr>\n",
              "    <tr>\n",
              "      <th>28</th>\n",
              "      <td>0.404255</td>\n",
              "      <td>0.947368</td>\n",
              "      <td>0.33</td>\n",
              "    </tr>\n",
              "    <tr>\n",
              "      <th>29</th>\n",
              "      <td>0.446809</td>\n",
              "      <td>0.947368</td>\n",
              "      <td>0.29</td>\n",
              "    </tr>\n",
              "    <tr>\n",
              "      <th>30</th>\n",
              "      <td>0.446809</td>\n",
              "      <td>0.973684</td>\n",
              "      <td>0.26</td>\n",
              "    </tr>\n",
              "    <tr>\n",
              "      <th>31</th>\n",
              "      <td>0.489362</td>\n",
              "      <td>1.000000</td>\n",
              "      <td>0.23</td>\n",
              "    </tr>\n",
              "    <tr>\n",
              "      <th>32</th>\n",
              "      <td>0.553191</td>\n",
              "      <td>1.000000</td>\n",
              "      <td>0.19</td>\n",
              "    </tr>\n",
              "    <tr>\n",
              "      <th>33</th>\n",
              "      <td>0.638298</td>\n",
              "      <td>1.000000</td>\n",
              "      <td>0.16</td>\n",
              "    </tr>\n",
              "    <tr>\n",
              "      <th>34</th>\n",
              "      <td>0.659574</td>\n",
              "      <td>1.000000</td>\n",
              "      <td>0.14</td>\n",
              "    </tr>\n",
              "    <tr>\n",
              "      <th>35</th>\n",
              "      <td>0.702128</td>\n",
              "      <td>1.000000</td>\n",
              "      <td>0.13</td>\n",
              "    </tr>\n",
              "    <tr>\n",
              "      <th>36</th>\n",
              "      <td>0.744681</td>\n",
              "      <td>1.000000</td>\n",
              "      <td>0.11</td>\n",
              "    </tr>\n",
              "    <tr>\n",
              "      <th>37</th>\n",
              "      <td>0.787234</td>\n",
              "      <td>1.000000</td>\n",
              "      <td>0.10</td>\n",
              "    </tr>\n",
              "    <tr>\n",
              "      <th>38</th>\n",
              "      <td>0.851064</td>\n",
              "      <td>1.000000</td>\n",
              "      <td>0.05</td>\n",
              "    </tr>\n",
              "    <tr>\n",
              "      <th>39</th>\n",
              "      <td>0.936170</td>\n",
              "      <td>1.000000</td>\n",
              "      <td>0.01</td>\n",
              "    </tr>\n",
              "    <tr>\n",
              "      <th>40</th>\n",
              "      <td>1.000000</td>\n",
              "      <td>1.000000</td>\n",
              "      <td>0.00</td>\n",
              "    </tr>\n",
              "  </tbody>\n",
              "</table>\n",
              "</div>"
            ],
            "text/plain": [
              "    false_pos_rate  true_pos_rate  thresholds\n",
              "0         0.000000       0.000000         inf\n",
              "1         0.000000       0.052632        1.00\n",
              "2         0.000000       0.078947        0.99\n",
              "3         0.000000       0.157895        0.98\n",
              "4         0.000000       0.184211        0.97\n",
              "5         0.000000       0.236842        0.96\n",
              "6         0.000000       0.289474        0.92\n",
              "7         0.000000       0.394737        0.85\n",
              "8         0.000000       0.421053        0.84\n",
              "9         0.021277       0.447368        0.83\n",
              "10        0.021277       0.473684        0.81\n",
              "11        0.021277       0.552632        0.80\n",
              "12        0.021277       0.578947        0.79\n",
              "13        0.021277       0.631579        0.78\n",
              "14        0.042553       0.631579        0.77\n",
              "15        0.042553       0.684211        0.69\n",
              "16        0.042553       0.842105        0.63\n",
              "17        0.042553       0.868421        0.62\n",
              "18        0.085106       0.868421        0.58\n",
              "19        0.106383       0.894737        0.56\n",
              "20        0.148936       0.894737        0.51\n",
              "21        0.148936       0.921053        0.47\n",
              "22        0.234043       0.921053        0.46\n",
              "23        0.255319       0.921053        0.45\n",
              "24        0.297872       0.921053        0.39\n",
              "25        0.297872       0.947368        0.37\n",
              "26        0.340426       0.947368        0.36\n",
              "27        0.361702       0.947368        0.35\n",
              "28        0.404255       0.947368        0.33\n",
              "29        0.446809       0.947368        0.29\n",
              "30        0.446809       0.973684        0.26\n",
              "31        0.489362       1.000000        0.23\n",
              "32        0.553191       1.000000        0.19\n",
              "33        0.638298       1.000000        0.16\n",
              "34        0.659574       1.000000        0.14\n",
              "35        0.702128       1.000000        0.13\n",
              "36        0.744681       1.000000        0.11\n",
              "37        0.787234       1.000000        0.10\n",
              "38        0.851064       1.000000        0.05\n",
              "39        0.936170       1.000000        0.01\n",
              "40        1.000000       1.000000        0.00"
            ]
          },
          "execution_count": 32,
          "metadata": {},
          "output_type": "execute_result"
        }
      ],
      "source": [
        "# Get predicted probabilities from model\n",
        "y_pred_prob = model_rf.predict_proba(X_val)[:, -1]\n",
        "\n",
        "# Input true labels and probability predictions\n",
        "fpr, tpr, thresholds = roc_curve(y_val, y_pred_prob)\n",
        "\n",
        "# Put data into dictionary\n",
        "data = {'false_pos_rate': fpr,\n",
        "        'true_pos_rate': tpr,\n",
        "        'thresholds': thresholds}\n",
        "\n",
        "pd.DataFrame(data)"
      ]
    },
    {
      "cell_type": "markdown",
      "metadata": {
        "id": "tC6MqtN90A0x"
      },
      "source": [
        "## Demonstrating how changing the threshold (from roc-auc curve) changes the metrics"
      ]
    },
    {
      "cell_type": "code",
      "execution_count": 33,
      "metadata": {
        "id": "FYGOfQF-yedm"
      },
      "outputs": [],
      "source": [
        "y_pred_prob[y_pred_prob >= 0.61] = 1\n",
        "y_pred_prob[y_pred_prob < 0.61] = 0"
      ]
    },
    {
      "cell_type": "code",
      "execution_count": 34,
      "metadata": {
        "id": "A6Pitfgzy_iN"
      },
      "outputs": [
        {
          "name": "stdout",
          "output_type": "stream",
          "text": [
            "Validation Accuracy (RF): 0.9058823529411765\n"
          ]
        }
      ],
      "source": [
        "from sklearn.metrics import accuracy_score\n",
        "\n",
        "print('Validation Accuracy (RF):', accuracy_score(y_val, y_pred_prob))"
      ]
    },
    {
      "cell_type": "code",
      "execution_count": 35,
      "metadata": {
        "id": "FFMmvFc4lZqc"
      },
      "outputs": [
        {
          "name": "stdout",
          "output_type": "stream",
          "text": [
            "              precision    recall  f1-score   support\n",
            "\n",
            "           0       0.91      0.85      0.88        47\n",
            "           1       0.83      0.89      0.86        38\n",
            "\n",
            "    accuracy                           0.87        85\n",
            "   macro avg       0.87      0.87      0.87        85\n",
            "weighted avg       0.87      0.87      0.87        85\n",
            "\n"
          ]
        },
        {
          "data": {
            "image/png": "[encoded data removed]",
            "text/plain": [
              "<Figure size 640x480 with 2 Axes>"
            ]
          },
          "metadata": {},
          "output_type": "display_data"
        }
      ],
      "source": [
        "print(classification_report(y_val, model_rf.predict(X_val)))\n",
        "plot_confusion_matrix(model_rf, X_val, y_pred_prob);"
      ]
    },
    {
      "cell_type": "markdown",
      "metadata": {
        "id": "EklA_4VYP31G"
      },
      "source": [
        "## Regression Example\n",
        "\n",
        "What if we were predicting the cost of a burrito?\n"
      ]
    },
    {
      "cell_type": "code",
      "execution_count": null,
      "metadata": {
        "id": "tl7mWeTTp8L_"
      },
      "outputs": [],
      "source": [
        "# target = 'Cost'\n",
        "# y = df[target]\n",
        "# X = df.drop(columns=target)"
      ]
    },
    {
      "cell_type": "code",
      "execution_count": null,
      "metadata": {
        "id": "Rn5ulfovTZJN"
      },
      "outputs": [],
      "source": [
        "# df['Cost'].hist(bins=20) # to check for target skewness"
      ]
    },
    {
      "cell_type": "code",
      "execution_count": null,
      "metadata": {
        "id": "lpHSPMQzQWPC"
      },
      "outputs": [],
      "source": [
        "# Radomized Train Test Split\n",
        "# from sklearn.model_selection import train_test_split\n",
        "# X_train, X_val, y_train, y_val = train_test_split(X, y, test_size=0.33, random_state=42)"
      ]
    },
    {
      "cell_type": "code",
      "execution_count": null,
      "metadata": {
        "id": "5ZJ-dAk9XgBg"
      },
      "outputs": [],
      "source": [
        "# from sklearn.metrics import mean_absolute_error\n",
        "# baseline_pred = [y_val.mean()] * len(y_val)\n",
        "# mean_absolute_error(y_val, baseline_pred)"
      ]
    },
    {
      "cell_type": "code",
      "execution_count": null,
      "metadata": {
        "id": "FLYuAc8tQdzB"
      },
      "outputs": [],
      "source": [
        "\n",
        "# model_lr = make_pipeline(SimpleImputer(),\n",
        "#                       StandardScaler(),\n",
        "#                       LinearRegression())\n",
        "\n",
        "# model_lr.fit(X_train, y_train)"
      ]
    },
    {
      "cell_type": "code",
      "execution_count": null,
      "metadata": {
        "id": "5nfkcZKqSYEq"
      },
      "outputs": [],
      "source": [
        "\n",
        "# model_rf = make_pipeline(SimpleImputer(),\n",
        "#                       RandomForestRegressor())\n",
        "\n",
        "# model_rf.fit(X_train, y_train)"
      ]
    },
    {
      "cell_type": "code",
      "execution_count": null,
      "metadata": {
        "id": "fC8GHIe4SYmd"
      },
      "outputs": [],
      "source": [
        "# print(\"Training Accuracy - Linear Regression\", mean_absolute_error(y_train, model_lr.predict(X_train)))\n",
        "# print(\"Validation Accuracy - Linear Regression\", mean_absolute_error(y_val, model_lr.predict(X_val)))"
      ]
    },
    {
      "cell_type": "code",
      "execution_count": null,
      "metadata": {
        "id": "z9czTvuKS5Hs"
      },
      "outputs": [],
      "source": [
        "# print(\"Training Accuracy - Random Forest\", mean_absolute_error(y_train, model_rf.predict(X_train)))\n",
        "# print(\"Validation Accuracy - Random Forest\", mean_absolute_error(y_val, model_rf.predict(X_val)))"
      ]
    },
    {
      "cell_type": "markdown",
      "metadata": {
        "id": "YhRJzCrYVxmw"
      },
      "source": [
        "# Log Transformation of skewed Target (for regression)"
      ]
    },
    {
      "cell_type": "code",
      "execution_count": null,
      "metadata": {
        "id": "yyGNUcC9N0cO"
      },
      "outputs": [],
      "source": [
        "# The chosen target for the above example (burrito cost) is not skewed. But if your regression target is skewed, then you should log transform it, using the following steps:\n",
        "\n",
        "# log transform your target (training set)\n",
        "# y_train_log = np.log1p(y_train)\n",
        "\n",
        "# fit your chosen model to this log tranformed target\n",
        "# model.fit(X_train, y_train_log)\n",
        "\n",
        "# get your predictions for this log tranformed target\n",
        "# y_pred_log = model.predict(X_val)\n",
        "\n",
        "# reverse log tranform your log tranformed target\n",
        "# y_pred = np.expm1(y_pred_log)\n",
        "\n",
        "# check your metrics\n",
        "# print(mean_absolute_error(y_val, y_pred))\n"
      ]
    },
    {
      "cell_type": "markdown",
      "metadata": {
        "id": "b78kDMWtWJZC"
      },
      "source": [
        "# Sampling of imbalance data (using .sample function)"
      ]
    },
    {
      "cell_type": "markdown",
      "metadata": {
        "id": "E8joZRzE4EWW"
      },
      "source": [
        "This is just one way to over or under sample. Go over these links and read how to implement SMOTE(Synthetic Minority Oversampling Technique) technique too, where you create synthetic observations of the minority class!\n",
        "\n",
        "* https://imbalanced-learn.org/dev/references/generated/imblearn.over_sampling.SMOTE.html\n",
        "* https://machinelearningmastery.com/tactics-to-combat-imbalanced-classes-in-your-machine-learning-dataset/"
      ]
    },
    {
      "cell_type": "code",
      "execution_count": null,
      "metadata": {
        "id": "jWkWFeDxWNoJ"
      },
      "outputs": [],
      "source": [
        "# # Sampling of imbalance data (using .sample function)\n",
        "\n",
        "# # If train_minority contains only those rows in your training dataset that correspond to minority class, you can oversample like this.\n",
        "# # When you over sample your minority class, you always have to sample with replacement\n",
        "\n",
        "# num_minority_samples = 10 # number of additional minority class rows to create.\n",
        "# train_minority_sample = train_minority.sample(num_minority_samples,replace = True)\n",
        "\n",
        "\n",
        "# # If train_majority contains only those rows in your dataset that correspond to majority class, you can undersample like this.\n",
        "# # Under sampling doesnt need with replacement\n",
        "# num_majority_samples = 10 # number of majority class rows to remove.\n",
        "# train_majority_sample = train_majority.sample(num_majority_samples,replace=False)\n",
        "\n",
        "# # You can then append the two dataframes to form a final train df.\n",
        "# train_final = train_minority_sample.append(train_majority_sample, ignore_index=True)\n"
      ]
    }
  ],
  "metadata": {
    "colab": {
      "collapsed_sections": [
        "tC6MqtN90A0x",
        "EklA_4VYP31G"
      ],
      "provenance": []
    },
    "kernelspec": {
      "display_name": "Python 3",
      "language": "python",
      "name": "python3"
    },
    "language_info": {
      "codemirror_mode": {
        "name": "ipython",
        "version": 3
      },
      "file_extension": ".py",
      "mimetype": "text/x-python",
      "name": "python",
      "nbconvert_exporter": "python",
      "pygments_lexer": "ipython3",
      "version": "3.11.7"
    }
  },
  "nbformat": 4,
  "nbformat_minor": 0
}
